{
  "nbformat": 4,
  "nbformat_minor": 0,
  "metadata": {
    "colab": {
      "name": "3-Classification.ipynb",
      "provenance": [],
      "collapsed_sections": []
    },
    "kernelspec": {
      "name": "python3",
      "display_name": "Python 3"
    }
  },
  "cells": [
    {
      "cell_type": "markdown",
      "metadata": {
        "id": "A-fObiRS6xuW"
      },
      "source": [
        "# Classification for SENSE project\n"
      ]
    },
    {
      "cell_type": "markdown",
      "metadata": {
        "id": "xPZHaqbJ8Gul"
      },
      "source": [
        "## SVM Classifier\n",
        "\n",
        "\n"
      ]
    },
    {
      "cell_type": "code",
      "metadata": {
        "id": "XmD3dQUvD4nv",
        "colab": {
          "base_uri": "https://localhost:8080/"
        },
        "outputId": "60e78fcc-8e1c-4742-fcc0-81a9af305fe2"
      },
      "source": [
        "# Import earthengine API\n",
        "import ee\n",
        "\n",
        "# Authenticate and initialise \n",
        "ee.Authenticate()\n",
        "ee.Initialize()\n",
        "\n",
        "import folium\n",
        "!pip install geehydro # Life saver for plotting GEE stuff with Python!\n",
        "import geehydro"
      ],
      "execution_count": 2,
      "outputs": [
        {
          "output_type": "stream",
          "name": "stdout",
          "text": [
            "Collecting geehydro\n",
            "  Downloading geehydro-0.2.0.tar.gz (15 kB)\n",
            "Requirement already satisfied: earthengine-api in /usr/local/lib/python3.7/dist-packages (from geehydro) (0.1.288)\n",
            "Requirement already satisfied: folium in /usr/local/lib/python3.7/dist-packages (from geehydro) (0.8.3)\n",
            "Requirement already satisfied: click in /usr/local/lib/python3.7/dist-packages (from geehydro) (7.1.2)\n",
            "Requirement already satisfied: future in /usr/local/lib/python3.7/dist-packages (from earthengine-api->geehydro) (0.16.0)\n",
            "Requirement already satisfied: httplib2<1dev,>=0.9.2 in /usr/local/lib/python3.7/dist-packages (from earthengine-api->geehydro) (0.17.4)\n",
            "Requirement already satisfied: httplib2shim in /usr/local/lib/python3.7/dist-packages (from earthengine-api->geehydro) (0.0.3)\n",
            "Requirement already satisfied: six in /usr/local/lib/python3.7/dist-packages (from earthengine-api->geehydro) (1.15.0)\n",
            "Requirement already satisfied: google-auth-httplib2>=0.0.3 in /usr/local/lib/python3.7/dist-packages (from earthengine-api->geehydro) (0.0.4)\n",
            "Requirement already satisfied: google-api-python-client<2,>=1.12.1 in /usr/local/lib/python3.7/dist-packages (from earthengine-api->geehydro) (1.12.8)\n",
            "Requirement already satisfied: google-auth>=1.4.1 in /usr/local/lib/python3.7/dist-packages (from earthengine-api->geehydro) (1.35.0)\n",
            "Requirement already satisfied: google-cloud-storage in /usr/local/lib/python3.7/dist-packages (from earthengine-api->geehydro) (1.18.1)\n",
            "Requirement already satisfied: google-api-core<2dev,>=1.21.0 in /usr/local/lib/python3.7/dist-packages (from google-api-python-client<2,>=1.12.1->earthengine-api->geehydro) (1.26.3)\n",
            "Requirement already satisfied: uritemplate<4dev,>=3.0.0 in /usr/local/lib/python3.7/dist-packages (from google-api-python-client<2,>=1.12.1->earthengine-api->geehydro) (3.0.1)\n",
            "Requirement already satisfied: packaging>=14.3 in /usr/local/lib/python3.7/dist-packages (from google-api-core<2dev,>=1.21.0->google-api-python-client<2,>=1.12.1->earthengine-api->geehydro) (21.2)\n",
            "Requirement already satisfied: requests<3.0.0dev,>=2.18.0 in /usr/local/lib/python3.7/dist-packages (from google-api-core<2dev,>=1.21.0->google-api-python-client<2,>=1.12.1->earthengine-api->geehydro) (2.23.0)\n",
            "Requirement already satisfied: setuptools>=40.3.0 in /usr/local/lib/python3.7/dist-packages (from google-api-core<2dev,>=1.21.0->google-api-python-client<2,>=1.12.1->earthengine-api->geehydro) (57.4.0)\n",
            "Requirement already satisfied: pytz in /usr/local/lib/python3.7/dist-packages (from google-api-core<2dev,>=1.21.0->google-api-python-client<2,>=1.12.1->earthengine-api->geehydro) (2018.9)\n",
            "Requirement already satisfied: googleapis-common-protos<2.0dev,>=1.6.0 in /usr/local/lib/python3.7/dist-packages (from google-api-core<2dev,>=1.21.0->google-api-python-client<2,>=1.12.1->earthengine-api->geehydro) (1.53.0)\n",
            "Requirement already satisfied: protobuf>=3.12.0 in /usr/local/lib/python3.7/dist-packages (from google-api-core<2dev,>=1.21.0->google-api-python-client<2,>=1.12.1->earthengine-api->geehydro) (3.17.3)\n",
            "Requirement already satisfied: pyasn1-modules>=0.2.1 in /usr/local/lib/python3.7/dist-packages (from google-auth>=1.4.1->earthengine-api->geehydro) (0.2.8)\n",
            "Requirement already satisfied: cachetools<5.0,>=2.0.0 in /usr/local/lib/python3.7/dist-packages (from google-auth>=1.4.1->earthengine-api->geehydro) (4.2.4)\n",
            "Requirement already satisfied: rsa<5,>=3.1.4 in /usr/local/lib/python3.7/dist-packages (from google-auth>=1.4.1->earthengine-api->geehydro) (4.7.2)\n",
            "Requirement already satisfied: pyparsing<3,>=2.0.2 in /usr/local/lib/python3.7/dist-packages (from packaging>=14.3->google-api-core<2dev,>=1.21.0->google-api-python-client<2,>=1.12.1->earthengine-api->geehydro) (2.4.7)\n",
            "Requirement already satisfied: pyasn1<0.5.0,>=0.4.6 in /usr/local/lib/python3.7/dist-packages (from pyasn1-modules>=0.2.1->google-auth>=1.4.1->earthengine-api->geehydro) (0.4.8)\n",
            "Requirement already satisfied: certifi>=2017.4.17 in /usr/local/lib/python3.7/dist-packages (from requests<3.0.0dev,>=2.18.0->google-api-core<2dev,>=1.21.0->google-api-python-client<2,>=1.12.1->earthengine-api->geehydro) (2021.10.8)\n",
            "Requirement already satisfied: chardet<4,>=3.0.2 in /usr/local/lib/python3.7/dist-packages (from requests<3.0.0dev,>=2.18.0->google-api-core<2dev,>=1.21.0->google-api-python-client<2,>=1.12.1->earthengine-api->geehydro) (3.0.4)\n",
            "Requirement already satisfied: idna<3,>=2.5 in /usr/local/lib/python3.7/dist-packages (from requests<3.0.0dev,>=2.18.0->google-api-core<2dev,>=1.21.0->google-api-python-client<2,>=1.12.1->earthengine-api->geehydro) (2.10)\n",
            "Requirement already satisfied: urllib3!=1.25.0,!=1.25.1,<1.26,>=1.21.1 in /usr/local/lib/python3.7/dist-packages (from requests<3.0.0dev,>=2.18.0->google-api-core<2dev,>=1.21.0->google-api-python-client<2,>=1.12.1->earthengine-api->geehydro) (1.24.3)\n",
            "Requirement already satisfied: jinja2 in /usr/local/lib/python3.7/dist-packages (from folium->geehydro) (2.11.3)\n",
            "Requirement already satisfied: numpy in /usr/local/lib/python3.7/dist-packages (from folium->geehydro) (1.19.5)\n",
            "Requirement already satisfied: branca>=0.3.0 in /usr/local/lib/python3.7/dist-packages (from folium->geehydro) (0.4.2)\n",
            "Requirement already satisfied: google-resumable-media<0.5.0dev,>=0.3.1 in /usr/local/lib/python3.7/dist-packages (from google-cloud-storage->earthengine-api->geehydro) (0.4.1)\n",
            "Requirement already satisfied: google-cloud-core<2.0dev,>=1.0.0 in /usr/local/lib/python3.7/dist-packages (from google-cloud-storage->earthengine-api->geehydro) (1.0.3)\n",
            "Requirement already satisfied: MarkupSafe>=0.23 in /usr/local/lib/python3.7/dist-packages (from jinja2->folium->geehydro) (2.0.1)\n",
            "Building wheels for collected packages: geehydro\n",
            "  Building wheel for geehydro (setup.py) ... \u001b[?25l\u001b[?25hdone\n",
            "  Created wheel for geehydro: filename=geehydro-0.2.0-py2.py3-none-any.whl size=10141 sha256=1446a5794f583484a4c7c9aca572e79f09a3b56d84ae80019c6e84208ac493f1\n",
            "  Stored in directory: /root/.cache/pip/wheels/49/6c/92/019aeb37663078e6666afa9dd336e2d8df72d5683d7d357697\n",
            "Successfully built geehydro\n",
            "Installing collected packages: geehydro\n",
            "Successfully installed geehydro-0.2.0\n"
          ]
        }
      ]
    },
    {
      "cell_type": "code",
      "metadata": {
        "id": "AXEZqxl4-E6a"
      },
      "source": [
        "# importing Landsat 8 imegery (surface reflectance product)  \n",
        "# l8 = ee.ImageCollection('LANDSAT/LC08/C01/T1')\n",
        "dataset = ee.ImageCollection('LANDSAT/LC08/C02/T1_L2');\n",
        "\n",
        "aoi = ee.Geometry.Rectangle(77.47, 12.94, 77.51, 12.98)\n",
        "\n",
        "dataset = dataset.filterBounds(aoi)\n",
        "\n",
        "# Normalization\n",
        "def normalize(image):\n",
        "  bandNames = image.bandNames();\n",
        "\n",
        "  # Compute min and max of the image\n",
        "  minDict = image.reduceRegion(\n",
        "    reducer = ee.Reducer.min(),\n",
        "    geometry = aoi,\n",
        "    scale = 30,\n",
        "    maxPixels = 1e9,\n",
        "    bestEffort = True,\n",
        "    tileScale = 16\n",
        "  )\n",
        "  maxDict = image.reduceRegion(\n",
        "    reducer = ee.Reducer.max(),\n",
        "    geometry = aoi,\n",
        "    scale = 30,\n",
        "    maxPixels = 1e9,\n",
        "    bestEffort = True,\n",
        "    tileScale = 16\n",
        "  );\n",
        "  mins = ee.Image.constant(minDict.values(bandNames));\n",
        "  maxs = ee.Image.constant(maxDict.values(bandNames));\n",
        "\n",
        "  normalized = image.subtract(mins).divide(maxs.subtract(mins));\n",
        "  return normalized;\n",
        "\n",
        "ls_20 = normalize(dataset.filterDate('2020-01-01','2020-12-29').sort('CLOUD_COVER').first());\n",
        "ls_19 = normalize(dataset.filterDate('2019-01-01','2019-12-29').sort('CLOUD_COVER').first());\n",
        "ls_18 = normalize(dataset.filterDate('2018-01-01','2018-12-29').sort('CLOUD_COVER').first());\n",
        "\n",
        "ls_17 = normalize(dataset.filterDate('2017-01-01','2017-12-29').sort('CLOUD_COVER').first());\n",
        "ls_16 = normalize(dataset.filterDate('2016-01-01','2016-12-29').sort('CLOUD_COVER').first());\n",
        "ls_15 = normalize(dataset.filterDate('2015-01-01','2015-12-29').sort('CLOUD_COVER').first());\n",
        "\n",
        "ls_14 = normalize(dataset.filterDate('2014-01-01','2014-12-29').sort('CLOUD_COVER').first());\n",
        "ls_13 = normalize(dataset.filterDate('2013-01-01','2013-12-29').sort('CLOUD_COVER').first());\n",
        "\n",
        "# Use these bands for prediction\n",
        "bands = ['SR_B2', 'SR_B3', 'SR_B4', 'SR_B5', 'SR_B6', 'SR_B7', 'ST_TRAD'];\n"
      ],
      "execution_count": 4,
      "outputs": []
    },
    {
      "cell_type": "markdown",
      "metadata": {
        "id": "jgXQ3wG8oqMH"
      },
      "source": [
        "Importing the geometries\n"
      ]
    },
    {
      "cell_type": "code",
      "metadata": {
        "id": "16af-yxDFx-r"
      },
      "source": [
        "# Plot the result\n",
        "water = ee.Geometry.MultiPolygon(\n",
        "    [[[[77.33690896389112,12.97190512044105],\n",
        "       [77.33896890041456,12.973159721940856],\n",
        "       [77.33720937130079,12.974372497374777],\n",
        "       [77.33690896389112,12.97190512044105]]],\n",
        "     [[[77.35085645076856,12.974079759018426],\n",
        "       [77.35085645076856,12.975083431948388],\n",
        "       [77.34703698513135,12.973996119424758],\n",
        "       [77.35085645076856,12.974079759018426]]],\n",
        "     [[[77.3543755089961,12.977299861984198],\n",
        "       [77.35523381588087,12.979725366550316],\n",
        "       [77.35377469417676,12.979892641854967],\n",
        "       [77.3543755089961,12.977299861984198]]],\n",
        "     [[[77.3532597100459,12.97094325500556],\n",
        "       [77.35386052486524,12.973954299617365],\n",
        "       [77.35248723384962,12.973828840153],\n",
        "       [77.3532597100459,12.97094325500556]]],\n",
        "     [[[77.61773918531688,12.906125120213627],\n",
        "       [77.61975620649608,12.910893830135821],\n",
        "       [77.61683796308787,12.911981417904475],\n",
        "       [77.61773918531688,12.906125120213627]]],\n",
        "     [[[77.33417476730546,12.890126258496963],\n",
        "       [77.33507598953446,12.893598445016687],\n",
        "       [77.33147110061844,12.89330561186866],\n",
        "       [77.33417476730546,12.890126258496963]]]])\n",
        "\n",
        "non_urban = ee.Geometry.MultiPolygon(\n",
        "    [[[[77.24945354417429,12.929421008943933],\n",
        "       [77.25147056535349,12.932160681202756],\n",
        "       [77.24814462617502,12.932390728649514],\n",
        "       [77.24945354417429,12.929421008943933]]],\n",
        "     [[[77.28891328183126,12.928465640334862],\n",
        "       [77.28745416012715,12.92520307814124],\n",
        "       [77.29402020779561,12.926499742580344],\n",
        "       [77.28891328183126,12.928465640334862]]],\n",
        "     [[[77.30126125411181,12.91305609917982],\n",
        "       [77.30231268004565,12.915816865770896],\n",
        "       [77.30029565886645,12.91633973479562],\n",
        "       [77.30126125411181,12.91305609917982]]],\n",
        "     [[[77.29313890214618,12.99528844415357],\n",
        "       [77.29591767068561,12.996929725381255],\n",
        "       [77.29415814157184,12.997943759952069],\n",
        "       [77.29313890214618,12.99528844415357]]],\n",
        "     [[[77.6682523410615,13.160411700453588],\n",
        "       [77.67129933050242,13.161686238303005],\n",
        "       [77.66108547857371,13.161623556268697],\n",
        "       [77.6682523410615,13.160411700453588]]],\n",
        "     [[[77.85864390266106,13.082716376130058],\n",
        "       [77.85997427833244,13.08374050943408],\n",
        "       [77.85765684974358,13.085830564200236],\n",
        "       [77.85864390266106,13.082716376130058]]],\n",
        "     [[[77.91360275741509,13.07310773259363],\n",
        "       [77.91512625213555,13.07609663432832],\n",
        "       [77.90783064361504,13.076389252132401],\n",
        "       [77.91360275741509,13.07310773259363]]],\n",
        "     [[[77.4205055925501,12.702860886609601],\n",
        "       [77.41213710042364,12.698590627922417],\n",
        "       [77.42895991536504,12.697920776914748],\n",
        "       [77.4205055925501,12.702860886609601]]],\n",
        "     [[[77.75572558363297,12.954987790766982],\n",
        "       [77.7562191100917,12.953063925428436],\n",
        "       [77.76121874769547,12.956472502771119],\n",
        "       [77.75572558363297,12.954987790766982]]],\n",
        "     [[[77.36095833992466,12.953696423312978],\n",
        "       [77.36662316536412,12.96406836459562],\n",
        "       [77.35855508064732,12.96490479264407],\n",
        "       [77.36095833992466,12.953696423312978]]],\n",
        "     [[[77.39494729256138,12.988825444274283],\n",
        "       [77.39923882698521,12.989829057657177],\n",
        "       [77.40009713386998,12.995014328859492],\n",
        "       [77.39237237190709,12.993341672560065],\n",
        "       [77.39494729256138,12.988825444274283]]],\n",
        "     [[[77.43923592781529,12.946335428759095],\n",
        "       [77.44421410774693,12.951688900911062],\n",
        "       [77.43803429817662,12.95503476259268],\n",
        "       [77.43923592781529,12.946335428759095]]],\n",
        "     [[[77.34327721809849,12.999195920303883],\n",
        "       [77.34756875252232,12.990330862827909],\n",
        "       [77.35409188484654,12.997857818705771],\n",
        "       [77.34293389534459,13.000366753284327],\n",
        "       [77.34327721809849,12.999195920303883]]],\n",
        "     [[[77.88211625784514,12.912035541695577],\n",
        "       [77.8875665065634,12.916134867547562],\n",
        "       [77.87979882925627,12.919355719248044],\n",
        "       [77.88211625784514,12.912035541695577]]],\n",
        "     [[[77.84628194540618,12.908521780304845],\n",
        "       [77.84937185019133,12.91320678451529],\n",
        "       [77.83997338980315,12.913792403866662],\n",
        "       [77.84628194540618,12.908521780304845]]],\n",
        "     [[[77.63245876734034,13.192779196062471],\n",
        "       [77.63677175943629,13.195474165899727],\n",
        "       [77.63110693399683,13.196894758192853],\n",
        "       [77.63245876734034,13.192779196062471]]],\n",
        "     [[[77.61928375665919,13.20046709348754],\n",
        "       [77.62263115350977,13.206483540099613],\n",
        "       [77.61670883600489,13.206399979356197],\n",
        "       [77.61928375665919,13.20046709348754]]],\n",
        "     [[[77.65902336542383,13.187180249011073],\n",
        "       [77.66288574640528,13.195620403722986],\n",
        "       [77.65704925958887,13.195453274774978],\n",
        "       [77.65902336542383,13.187180249011073]]],\n",
        "     [[[77.59456451837794,13.204728758482483],\n",
        "       [77.59782608454005,13.207319145960899],\n",
        "       [77.59293373529688,13.208656109390175],\n",
        "       [77.59456451837794,13.204728758482483]]],\n",
        "     [[[77.6038342327334,13.178405521881848],\n",
        "       [77.60735329096094,13.18208258870698],\n",
        "       [77.60228928034083,13.183753964448005],\n",
        "       [77.6038342327334,13.178405521881848]]]])\n",
        "\n",
        "urban = ee.Geometry.MultiPolygon(\n",
        "    [[[[77.5562377152835,12.939736499257096],\n",
        "       [77.55645765642272,12.939689445500447],\n",
        "       [77.55658103803741,12.940782136002348],\n",
        "       [77.55633963922607,12.940803048692528],\n",
        "       [77.5562377152835,12.939736499257096]]]])"
      ],
      "execution_count": 18,
      "outputs": []
    },
    {
      "cell_type": "markdown",
      "metadata": {
        "id": "waAv_U9FI9k0"
      },
      "source": [
        "SVM Classifier"
      ]
    },
    {
      "cell_type": "code",
      "metadata": {
        "id": "YbGbywJXJDsP"
      },
      "source": [
        "NB = ee.Classifier.libsvm(\n",
        "  kernelType = 'RBF',\n",
        "  gamma = 0.5,\n",
        "  cost = 10)\n",
        "\n",
        "# Combine polygons for each class\n",
        "\n",
        "polygons = ee.FeatureCollection([\n",
        "  ee.Feature(urban, {'class': 0}),\n",
        "  ee.Feature(water, {'class': 1}),\n",
        "  ee.Feature(non_urban, {'class': 2}),\n",
        "])\n",
        "\n",
        "#  Sample rasters from each image to create training data\n",
        "\n",
        "training_20 = ls_20.sampleRegions(\n",
        "  collection = polygons,\n",
        "  properties = ['class'],\n",
        "  scale = 30\n",
        "  );\n",
        "\n",
        "training_19 = ls_19.sampleRegions(\n",
        "  collection = polygons,\n",
        "  properties = ['class'],\n",
        "  scale = 30\n",
        "  );\n",
        "\n",
        "training_18 = ls_18.sampleRegions(\n",
        "  collection = polygons,\n",
        "  properties = ['class'],\n",
        "  scale = 30\n",
        "  );\n",
        "\n",
        "training_17 = ls_17.sampleRegions(\n",
        "  collection = polygons,\n",
        "  properties = ['class'],\n",
        "  scale = 30\n",
        "  );\n",
        "\n",
        "training_16 = ls_16.sampleRegions(\n",
        "  collection = polygons,\n",
        "  properties = ['class'],\n",
        "  scale = 30\n",
        "  );\n",
        "\n",
        "training_15 = ls_15.sampleRegions(\n",
        "  collection = polygons,\n",
        "  properties = ['class'],\n",
        "  scale = 30\n",
        "  );\n",
        "\n",
        "training_14 = ls_14.sampleRegions(\n",
        "  collection = polygons,\n",
        "  properties = ['class'],\n",
        "  scale = 30\n",
        "  );\n",
        "\n",
        "training_13 = ls_13.sampleRegions(\n",
        "  collection = polygons,\n",
        "  properties = ['class'],\n",
        "  scale = 30\n",
        "  );\n",
        "\n",
        "#  Train the classifier\n",
        "trained_20 = NB.train(training_20, 'class',bands);\n",
        "trained_19 = NB.train(training_19, 'class',bands);\n",
        "trained_18 = NB.train(training_18, 'class',bands);\n",
        "\n",
        "trained_17 = NB.train(training_17, 'class',bands);\n",
        "trained_16 = NB.train(training_16, 'class',bands);\n",
        "trained_15 = NB.train(training_15, 'class',bands);\n",
        "\n",
        "trained_14 = NB.train(training_14, 'class',bands);\n",
        "trained_13 = NB.train(training_13, 'class',bands);\n",
        "\n",
        "#  Classify the images\n",
        "classified_20 = ls_20.classify(trained_20);\n",
        "classified_19 = ls_19.classify(trained_19);\n",
        "classified_18 = ls_18.classify(trained_18);\n",
        "\n",
        "classified_17 = ls_17.classify(trained_17);\n",
        "classified_16 = ls_16.classify(trained_16);\n",
        "classified_15 = ls_15.classify(trained_15);\n",
        "\n",
        "classified_14 = ls_14.classify(trained_14);\n",
        "classified_13 = ls_13.classify(trained_13);\n"
      ],
      "execution_count": 22,
      "outputs": []
    },
    {
      "cell_type": "markdown",
      "metadata": {
        "id": "SY2hBIbiwbcQ"
      },
      "source": [
        "Outputs"
      ]
    },
    {
      "cell_type": "code",
      "metadata": {
        "id": "Q9UbYEN8mlgR",
        "colab": {
          "base_uri": "https://localhost:8080/",
          "height": 501
        },
        "outputId": "2184c4dd-c52a-4562-8eea-483e8af2b560"
      },
      "source": [
        "# Plot the result\n",
        "# classified_reduced = classified.clip(roi)\n",
        "map = folium.Map(location=[12.94, 77.47], zoom_start=11)\n",
        "\n",
        "map.addLayer(classified_20,{'min': 0, 'max': 1, 'palette' :['red','blue','green']},'classification 2020');\n",
        "map.addLayer(classified_19,{'min': 0, 'max': 1, 'palette' :['red','blue','green']},'classification 2019');\n",
        "map.addLayer(classified_18,{'min': 0, 'max': 1, 'palette' :['red','blue','green']},'classification 2018');\n",
        "\n",
        "map.addLayer(classified_17,{'min': 0, 'max': 1, 'palette' :['red','blue','green']},'classification 2017');\n",
        "map.addLayer(classified_16,{'min': 0, 'max': 1, 'palette' :['red','blue','green']},'classification 2016');\n",
        "map.addLayer(classified_15,{'min': 0, 'max': 1, 'palette' :['red','blue','green']},'classification 2015');\n",
        "\n",
        "map.addLayer(classified_14,{'min': 0, 'max': 1, 'palette' :['red','blue','green']},'classification 2014');\n",
        "map.addLayer(classified_13,{'min': 0, 'max': 1, 'palette' :['red','blue','green']},'classification 2013');\n",
        "\n",
        "folium.LayerControl().add_to(map)\n",
        "\n",
        "map\n"
      ],
      "execution_count": 23,
      "outputs": [
        {
          "output_type": "execute_result",
          "data": {
            "text/html": [
              "<div style=\"width:100%;\"><div style=\"position:relative;width:100%;height:0;padding-bottom:60%;\"><span style=\"color:#565656\">Make this Notebook Trusted to load map: File -> Trust Notebook</span><iframe src=\"about:blank\" style=\"position:absolute;width:100%;height:100%;left:0;top:0;border:none !important;\" data-html=%3C%21DOCTYPE%20html%3E%0A%3Chead%3E%20%20%20%20%0A%20%20%20%20%3Cmeta%20http-equiv%3D%22content-type%22%20content%3D%22text/html%3B%20charset%3DUTF-8%22%20/%3E%0A%20%20%20%20%3Cscript%3EL_PREFER_CANVAS%3Dfalse%3B%20L_NO_TOUCH%3Dfalse%3B%20L_DISABLE_3D%3Dfalse%3B%3C/script%3E%0A%20%20%20%20%3Cscript%20src%3D%22https%3A//cdn.jsdelivr.net/npm/leaflet%401.4.0/dist/leaflet.js%22%3E%3C/script%3E%0A%20%20%20%20%3Cscript%20src%3D%22https%3A//code.jquery.com/jquery-1.12.4.min.js%22%3E%3C/script%3E%0A%20%20%20%20%3Cscript%20src%3D%22https%3A//maxcdn.bootstrapcdn.com/bootstrap/3.2.0/js/bootstrap.min.js%22%3E%3C/script%3E%0A%20%20%20%20%3Cscript%20src%3D%22https%3A//cdnjs.cloudflare.com/ajax/libs/Leaflet.awesome-markers/2.0.2/leaflet.awesome-markers.js%22%3E%3C/script%3E%0A%20%20%20%20%3Clink%20rel%3D%22stylesheet%22%20href%3D%22https%3A//cdn.jsdelivr.net/npm/leaflet%401.4.0/dist/leaflet.css%22/%3E%0A%20%20%20%20%3Clink%20rel%3D%22stylesheet%22%20href%3D%22https%3A//maxcdn.bootstrapcdn.com/bootstrap/3.2.0/css/bootstrap.min.css%22/%3E%0A%20%20%20%20%3Clink%20rel%3D%22stylesheet%22%20href%3D%22https%3A//maxcdn.bootstrapcdn.com/bootstrap/3.2.0/css/bootstrap-theme.min.css%22/%3E%0A%20%20%20%20%3Clink%20rel%3D%22stylesheet%22%20href%3D%22https%3A//maxcdn.bootstrapcdn.com/font-awesome/4.6.3/css/font-awesome.min.css%22/%3E%0A%20%20%20%20%3Clink%20rel%3D%22stylesheet%22%20href%3D%22https%3A//cdnjs.cloudflare.com/ajax/libs/Leaflet.awesome-markers/2.0.2/leaflet.awesome-markers.css%22/%3E%0A%20%20%20%20%3Clink%20rel%3D%22stylesheet%22%20href%3D%22https%3A//rawcdn.githack.com/python-visualization/folium/master/folium/templates/leaflet.awesome.rotate.css%22/%3E%0A%20%20%20%20%3Cstyle%3Ehtml%2C%20body%20%7Bwidth%3A%20100%25%3Bheight%3A%20100%25%3Bmargin%3A%200%3Bpadding%3A%200%3B%7D%3C/style%3E%0A%20%20%20%20%3Cstyle%3E%23map%20%7Bposition%3Aabsolute%3Btop%3A0%3Bbottom%3A0%3Bright%3A0%3Bleft%3A0%3B%7D%3C/style%3E%0A%20%20%20%20%0A%20%20%20%20%3Cmeta%20name%3D%22viewport%22%20content%3D%22width%3Ddevice-width%2C%0A%20%20%20%20%20%20%20%20initial-scale%3D1.0%2C%20maximum-scale%3D1.0%2C%20user-scalable%3Dno%22%20/%3E%0A%20%20%20%20%3Cstyle%3E%23map_80ad6bfe75984a1eb44272bc355d3d06%20%7B%0A%20%20%20%20%20%20%20%20position%3A%20relative%3B%0A%20%20%20%20%20%20%20%20width%3A%20100.0%25%3B%0A%20%20%20%20%20%20%20%20height%3A%20100.0%25%3B%0A%20%20%20%20%20%20%20%20left%3A%200.0%25%3B%0A%20%20%20%20%20%20%20%20top%3A%200.0%25%3B%0A%20%20%20%20%20%20%20%20%7D%0A%20%20%20%20%3C/style%3E%0A%3C/head%3E%0A%3Cbody%3E%20%20%20%20%0A%20%20%20%20%0A%20%20%20%20%3Cdiv%20class%3D%22folium-map%22%20id%3D%22map_80ad6bfe75984a1eb44272bc355d3d06%22%20%3E%3C/div%3E%0A%3C/body%3E%0A%3Cscript%3E%20%20%20%20%0A%20%20%20%20%0A%20%20%20%20%0A%20%20%20%20%20%20%20%20var%20bounds%20%3D%20null%3B%0A%20%20%20%20%0A%0A%20%20%20%20var%20map_80ad6bfe75984a1eb44272bc355d3d06%20%3D%20L.map%28%0A%20%20%20%20%20%20%20%20%27map_80ad6bfe75984a1eb44272bc355d3d06%27%2C%20%7B%0A%20%20%20%20%20%20%20%20center%3A%20%5B12.94%2C%2077.47%5D%2C%0A%20%20%20%20%20%20%20%20zoom%3A%2011%2C%0A%20%20%20%20%20%20%20%20maxBounds%3A%20bounds%2C%0A%20%20%20%20%20%20%20%20layers%3A%20%5B%5D%2C%0A%20%20%20%20%20%20%20%20worldCopyJump%3A%20false%2C%0A%20%20%20%20%20%20%20%20crs%3A%20L.CRS.EPSG3857%2C%0A%20%20%20%20%20%20%20%20zoomControl%3A%20true%2C%0A%20%20%20%20%20%20%20%20%7D%29%3B%0A%0A%0A%20%20%20%20%0A%20%20%20%20var%20tile_layer_7d2c3c2f849a4b23b8ba0796de91c4ee%20%3D%20L.tileLayer%28%0A%20%20%20%20%20%20%20%20%27https%3A//%7Bs%7D.tile.openstreetmap.org/%7Bz%7D/%7Bx%7D/%7By%7D.png%27%2C%0A%20%20%20%20%20%20%20%20%7B%0A%20%20%20%20%20%20%20%20%22attribution%22%3A%20null%2C%0A%20%20%20%20%20%20%20%20%22detectRetina%22%3A%20false%2C%0A%20%20%20%20%20%20%20%20%22maxNativeZoom%22%3A%2018%2C%0A%20%20%20%20%20%20%20%20%22maxZoom%22%3A%2018%2C%0A%20%20%20%20%20%20%20%20%22minZoom%22%3A%200%2C%0A%20%20%20%20%20%20%20%20%22noWrap%22%3A%20false%2C%0A%20%20%20%20%20%20%20%20%22opacity%22%3A%201%2C%0A%20%20%20%20%20%20%20%20%22subdomains%22%3A%20%22abc%22%2C%0A%20%20%20%20%20%20%20%20%22tms%22%3A%20false%0A%7D%29.addTo%28map_80ad6bfe75984a1eb44272bc355d3d06%29%3B%0A%20%20%20%20var%20tile_layer_8d1ee256571045efbfe247bd5ef0ef46%20%3D%20L.tileLayer%28%0A%20%20%20%20%20%20%20%20%27https%3A//earthengine.googleapis.com/v1alpha/projects/earthengine-legacy/maps/e8adac53077b6513cf96bace1ed74c11-08225b2a1bbcfbab02f6d30c54a9c890/tiles/%7Bz%7D/%7Bx%7D/%7By%7D%27%2C%0A%20%20%20%20%20%20%20%20%7B%0A%20%20%20%20%20%20%20%20%22attribution%22%3A%20%22Google%20Earth%20Engine%22%2C%0A%20%20%20%20%20%20%20%20%22detectRetina%22%3A%20false%2C%0A%20%20%20%20%20%20%20%20%22maxNativeZoom%22%3A%2018%2C%0A%20%20%20%20%20%20%20%20%22maxZoom%22%3A%2018%2C%0A%20%20%20%20%20%20%20%20%22minZoom%22%3A%200%2C%0A%20%20%20%20%20%20%20%20%22noWrap%22%3A%20false%2C%0A%20%20%20%20%20%20%20%20%22opacity%22%3A%201%2C%0A%20%20%20%20%20%20%20%20%22subdomains%22%3A%20%22abc%22%2C%0A%20%20%20%20%20%20%20%20%22tms%22%3A%20false%0A%7D%29.addTo%28map_80ad6bfe75984a1eb44272bc355d3d06%29%3B%0A%20%20%20%20var%20tile_layer_aaa952528f174d81b32f89571d0b0b59%20%3D%20L.tileLayer%28%0A%20%20%20%20%20%20%20%20%27https%3A//earthengine.googleapis.com/v1alpha/projects/earthengine-legacy/maps/43d59211d30b556c67cf986bb21fe491-42a00183d992f08df4b12925dd652ae5/tiles/%7Bz%7D/%7Bx%7D/%7By%7D%27%2C%0A%20%20%20%20%20%20%20%20%7B%0A%20%20%20%20%20%20%20%20%22attribution%22%3A%20%22Google%20Earth%20Engine%22%2C%0A%20%20%20%20%20%20%20%20%22detectRetina%22%3A%20false%2C%0A%20%20%20%20%20%20%20%20%22maxNativeZoom%22%3A%2018%2C%0A%20%20%20%20%20%20%20%20%22maxZoom%22%3A%2018%2C%0A%20%20%20%20%20%20%20%20%22minZoom%22%3A%200%2C%0A%20%20%20%20%20%20%20%20%22noWrap%22%3A%20false%2C%0A%20%20%20%20%20%20%20%20%22opacity%22%3A%201%2C%0A%20%20%20%20%20%20%20%20%22subdomains%22%3A%20%22abc%22%2C%0A%20%20%20%20%20%20%20%20%22tms%22%3A%20false%0A%7D%29.addTo%28map_80ad6bfe75984a1eb44272bc355d3d06%29%3B%0A%20%20%20%20var%20tile_layer_8779be4d6a5a44e7aae62a6306415ceb%20%3D%20L.tileLayer%28%0A%20%20%20%20%20%20%20%20%27https%3A//earthengine.googleapis.com/v1alpha/projects/earthengine-legacy/maps/af6dd527d7ace727632979b177ce40d9-0713ed3c56d6a70319a996868d6cb12d/tiles/%7Bz%7D/%7Bx%7D/%7By%7D%27%2C%0A%20%20%20%20%20%20%20%20%7B%0A%20%20%20%20%20%20%20%20%22attribution%22%3A%20%22Google%20Earth%20Engine%22%2C%0A%20%20%20%20%20%20%20%20%22detectRetina%22%3A%20false%2C%0A%20%20%20%20%20%20%20%20%22maxNativeZoom%22%3A%2018%2C%0A%20%20%20%20%20%20%20%20%22maxZoom%22%3A%2018%2C%0A%20%20%20%20%20%20%20%20%22minZoom%22%3A%200%2C%0A%20%20%20%20%20%20%20%20%22noWrap%22%3A%20false%2C%0A%20%20%20%20%20%20%20%20%22opacity%22%3A%201%2C%0A%20%20%20%20%20%20%20%20%22subdomains%22%3A%20%22abc%22%2C%0A%20%20%20%20%20%20%20%20%22tms%22%3A%20false%0A%7D%29.addTo%28map_80ad6bfe75984a1eb44272bc355d3d06%29%3B%0A%20%20%20%20var%20tile_layer_396af98c77644c889c7044e55edb4b4d%20%3D%20L.tileLayer%28%0A%20%20%20%20%20%20%20%20%27https%3A//earthengine.googleapis.com/v1alpha/projects/earthengine-legacy/maps/f9d076c9611d218afcc186bef2ddf239-1e25dc8d8ad4a4eb8373314b539b3eef/tiles/%7Bz%7D/%7Bx%7D/%7By%7D%27%2C%0A%20%20%20%20%20%20%20%20%7B%0A%20%20%20%20%20%20%20%20%22attribution%22%3A%20%22Google%20Earth%20Engine%22%2C%0A%20%20%20%20%20%20%20%20%22detectRetina%22%3A%20false%2C%0A%20%20%20%20%20%20%20%20%22maxNativeZoom%22%3A%2018%2C%0A%20%20%20%20%20%20%20%20%22maxZoom%22%3A%2018%2C%0A%20%20%20%20%20%20%20%20%22minZoom%22%3A%200%2C%0A%20%20%20%20%20%20%20%20%22noWrap%22%3A%20false%2C%0A%20%20%20%20%20%20%20%20%22opacity%22%3A%201%2C%0A%20%20%20%20%20%20%20%20%22subdomains%22%3A%20%22abc%22%2C%0A%20%20%20%20%20%20%20%20%22tms%22%3A%20false%0A%7D%29.addTo%28map_80ad6bfe75984a1eb44272bc355d3d06%29%3B%0A%20%20%20%20var%20tile_layer_2d60e444842648c7a52e33b3348cd59d%20%3D%20L.tileLayer%28%0A%20%20%20%20%20%20%20%20%27https%3A//earthengine.googleapis.com/v1alpha/projects/earthengine-legacy/maps/626794dc0e3117c0a809fffa31d4d6da-a9899963751aa7a5c32c53fc82e7c49c/tiles/%7Bz%7D/%7Bx%7D/%7By%7D%27%2C%0A%20%20%20%20%20%20%20%20%7B%0A%20%20%20%20%20%20%20%20%22attribution%22%3A%20%22Google%20Earth%20Engine%22%2C%0A%20%20%20%20%20%20%20%20%22detectRetina%22%3A%20false%2C%0A%20%20%20%20%20%20%20%20%22maxNativeZoom%22%3A%2018%2C%0A%20%20%20%20%20%20%20%20%22maxZoom%22%3A%2018%2C%0A%20%20%20%20%20%20%20%20%22minZoom%22%3A%200%2C%0A%20%20%20%20%20%20%20%20%22noWrap%22%3A%20false%2C%0A%20%20%20%20%20%20%20%20%22opacity%22%3A%201%2C%0A%20%20%20%20%20%20%20%20%22subdomains%22%3A%20%22abc%22%2C%0A%20%20%20%20%20%20%20%20%22tms%22%3A%20false%0A%7D%29.addTo%28map_80ad6bfe75984a1eb44272bc355d3d06%29%3B%0A%20%20%20%20var%20tile_layer_6490a7a3ccbf4f2dab40229636113f09%20%3D%20L.tileLayer%28%0A%20%20%20%20%20%20%20%20%27https%3A//earthengine.googleapis.com/v1alpha/projects/earthengine-legacy/maps/758ef1b5eb3a730bceffe38e083d1787-e7891e8f5a200b7ddbde7af5818532a2/tiles/%7Bz%7D/%7Bx%7D/%7By%7D%27%2C%0A%20%20%20%20%20%20%20%20%7B%0A%20%20%20%20%20%20%20%20%22attribution%22%3A%20%22Google%20Earth%20Engine%22%2C%0A%20%20%20%20%20%20%20%20%22detectRetina%22%3A%20false%2C%0A%20%20%20%20%20%20%20%20%22maxNativeZoom%22%3A%2018%2C%0A%20%20%20%20%20%20%20%20%22maxZoom%22%3A%2018%2C%0A%20%20%20%20%20%20%20%20%22minZoom%22%3A%200%2C%0A%20%20%20%20%20%20%20%20%22noWrap%22%3A%20false%2C%0A%20%20%20%20%20%20%20%20%22opacity%22%3A%201%2C%0A%20%20%20%20%20%20%20%20%22subdomains%22%3A%20%22abc%22%2C%0A%20%20%20%20%20%20%20%20%22tms%22%3A%20false%0A%7D%29.addTo%28map_80ad6bfe75984a1eb44272bc355d3d06%29%3B%0A%20%20%20%20var%20tile_layer_d31fcfd36ef740ba8f6cb64a11baf2f7%20%3D%20L.tileLayer%28%0A%20%20%20%20%20%20%20%20%27https%3A//earthengine.googleapis.com/v1alpha/projects/earthengine-legacy/maps/85a929dcf1306dce22979bf96019925c-474ec3076e0bac0d7a507988867c100f/tiles/%7Bz%7D/%7Bx%7D/%7By%7D%27%2C%0A%20%20%20%20%20%20%20%20%7B%0A%20%20%20%20%20%20%20%20%22attribution%22%3A%20%22Google%20Earth%20Engine%22%2C%0A%20%20%20%20%20%20%20%20%22detectRetina%22%3A%20false%2C%0A%20%20%20%20%20%20%20%20%22maxNativeZoom%22%3A%2018%2C%0A%20%20%20%20%20%20%20%20%22maxZoom%22%3A%2018%2C%0A%20%20%20%20%20%20%20%20%22minZoom%22%3A%200%2C%0A%20%20%20%20%20%20%20%20%22noWrap%22%3A%20false%2C%0A%20%20%20%20%20%20%20%20%22opacity%22%3A%201%2C%0A%20%20%20%20%20%20%20%20%22subdomains%22%3A%20%22abc%22%2C%0A%20%20%20%20%20%20%20%20%22tms%22%3A%20false%0A%7D%29.addTo%28map_80ad6bfe75984a1eb44272bc355d3d06%29%3B%0A%20%20%20%20var%20tile_layer_3ca8b39f644f42f3a933add92442a3fd%20%3D%20L.tileLayer%28%0A%20%20%20%20%20%20%20%20%27https%3A//earthengine.googleapis.com/v1alpha/projects/earthengine-legacy/maps/27ef31704939d2b28769c8cb97e2907b-35907d6832af7ca1a9c696bfd69ca633/tiles/%7Bz%7D/%7Bx%7D/%7By%7D%27%2C%0A%20%20%20%20%20%20%20%20%7B%0A%20%20%20%20%20%20%20%20%22attribution%22%3A%20%22Google%20Earth%20Engine%22%2C%0A%20%20%20%20%20%20%20%20%22detectRetina%22%3A%20false%2C%0A%20%20%20%20%20%20%20%20%22maxNativeZoom%22%3A%2018%2C%0A%20%20%20%20%20%20%20%20%22maxZoom%22%3A%2018%2C%0A%20%20%20%20%20%20%20%20%22minZoom%22%3A%200%2C%0A%20%20%20%20%20%20%20%20%22noWrap%22%3A%20false%2C%0A%20%20%20%20%20%20%20%20%22opacity%22%3A%201%2C%0A%20%20%20%20%20%20%20%20%22subdomains%22%3A%20%22abc%22%2C%0A%20%20%20%20%20%20%20%20%22tms%22%3A%20false%0A%7D%29.addTo%28map_80ad6bfe75984a1eb44272bc355d3d06%29%3B%0A%20%20%20%20%0A%20%20%20%20%20%20%20%20%20%20%20%20var%20layer_control_fc459b39e43b44e58c16a78f7059b628%20%3D%20%7B%0A%20%20%20%20%20%20%20%20%20%20%20%20%20%20%20%20base_layers%20%3A%20%7B%20%22openstreetmap%22%20%3A%20tile_layer_7d2c3c2f849a4b23b8ba0796de91c4ee%2C%20%7D%2C%0A%20%20%20%20%20%20%20%20%20%20%20%20%20%20%20%20overlays%20%3A%20%7B%20%22classification%202020%22%20%3A%20tile_layer_8d1ee256571045efbfe247bd5ef0ef46%2C%22classification%202019%22%20%3A%20tile_layer_aaa952528f174d81b32f89571d0b0b59%2C%22classification%202018%22%20%3A%20tile_layer_8779be4d6a5a44e7aae62a6306415ceb%2C%22classification%202017%22%20%3A%20tile_layer_396af98c77644c889c7044e55edb4b4d%2C%22classification%202016%22%20%3A%20tile_layer_2d60e444842648c7a52e33b3348cd59d%2C%22classification%202015%22%20%3A%20tile_layer_6490a7a3ccbf4f2dab40229636113f09%2C%22classification%202014%22%20%3A%20tile_layer_d31fcfd36ef740ba8f6cb64a11baf2f7%2C%22classification%202013%22%20%3A%20tile_layer_3ca8b39f644f42f3a933add92442a3fd%2C%20%7D%0A%20%20%20%20%20%20%20%20%20%20%20%20%20%20%20%20%7D%3B%0A%20%20%20%20%20%20%20%20%20%20%20%20L.control.layers%28%0A%20%20%20%20%20%20%20%20%20%20%20%20%20%20%20%20layer_control_fc459b39e43b44e58c16a78f7059b628.base_layers%2C%0A%20%20%20%20%20%20%20%20%20%20%20%20%20%20%20%20layer_control_fc459b39e43b44e58c16a78f7059b628.overlays%2C%0A%20%20%20%20%20%20%20%20%20%20%20%20%20%20%20%20%7Bposition%3A%20%27topright%27%2C%0A%20%20%20%20%20%20%20%20%20%20%20%20%20%20%20%20%20collapsed%3A%20true%2C%0A%20%20%20%20%20%20%20%20%20%20%20%20%20%20%20%20%20autoZIndex%3A%20true%0A%20%20%20%20%20%20%20%20%20%20%20%20%20%20%20%20%7D%29.addTo%28map_80ad6bfe75984a1eb44272bc355d3d06%29%3B%0A%20%20%20%20%20%20%20%20%20%20%20%20%0A%20%20%20%20%20%20%20%20%0A%3C/script%3E onload=\"this.contentDocument.open();this.contentDocument.write(    decodeURIComponent(this.getAttribute('data-html')));this.contentDocument.close();\" allowfullscreen webkitallowfullscreen mozallowfullscreen></iframe></div></div>"
            ],
            "text/plain": [
              "<folium.folium.Map at 0x7fedf11202d0>"
            ]
          },
          "metadata": {},
          "execution_count": 23
        }
      ]
    },
    {
      "cell_type": "markdown",
      "metadata": {
        "id": "t8mms6Bd7CaE"
      },
      "source": [
        "## Unsupervised classification"
      ]
    },
    {
      "cell_type": "markdown",
      "metadata": {
        "id": "JfD47CRl7Fa6"
      },
      "source": [
        "The `ee.Clusterer` package handles unsupervised classification (or clustering) in Earth Engine. More details about each Clusterer are available in the [reference docs in the Code Editor](https://code.earthengine.google.com/#workspace).\n",
        "\n",
        "Clusterers are used in the same manner as classifiers in Earth Engine. The general workflow for clustering is:\n",
        "\n",
        "*  Assemble features with numeric properties in which to find clusters.\n",
        "*   Instantiate a clusterer. Set its parameters if necessary.\n",
        "*  Train the clusterer using the training data.\n",
        "* Apply the clusterer to an image or feature collection.\n",
        "* Label the clusters.\n",
        "\n",
        "\n",
        "The training data is a `FeatureCollection` with properties that will be input to the clusterer. \n",
        "\n",
        "Unlike classifiers, there is no input class value for a Clusterer. \n",
        "\n",
        "Like classifiers, the data for the train and apply steps are expected to have the same number of values. When a trained clusterer is applied to an image or table, it assigns an integer cluster ID to each pixel or feature.\n",
        "\n",
        "These algorithms are currently based on the algorithms with the same name in [Weka](https://www.cs.waikato.ac.nz/ml/weka/).\n",
        "\n",
        "Here is a simple example of building and using an `ee.Clusterer`:"
      ]
    },
    {
      "cell_type": "code",
      "metadata": {
        "id": "r09eieJ27E6P"
      },
      "source": [
        "# Load a pre-computed Landsat composite for input.\n",
        "input = ee.Image('LANDSAT/LE7_TOA_1YEAR/2001')\n",
        "\n",
        "# Define a region in which to generate a sample of the input.\n",
        "region = ee.Geometry.Rectangle(29.7, 30, 32.5, 31.7)\n",
        "\n",
        "# Display the sample region.\n",
        "\n",
        "map = folium.Map(location=[31,31.5],zoom_start=8)\n",
        "\n",
        "map.addLayer(ee.Image().paint(region, 0, 2), {}, 'region')\n",
        "map"
      ],
      "execution_count": null,
      "outputs": []
    },
    {
      "cell_type": "code",
      "metadata": {
        "id": "-fzRJyrc90qx"
      },
      "source": [
        "# Make the training dataset.\n",
        "training = input.sample(region = region,scale= 30,  numPixels= 5000)\n",
        "\n",
        "# Instantiate the clusterer and train it.\n",
        "clusterer = ee.Clusterer.wekaKMeans(15).train(training)\n",
        "\n",
        "# Cluster the input using the trained clusterer.\n",
        "result = input.cluster(clusterer)\n",
        "\n",
        "# Display the clusters with random colors.\n",
        "\n",
        "map.addLayer(result.randomVisualizer(), {}, 'clusters')\n",
        "folium.LayerControl().add_to(map)\n",
        "map\n"
      ],
      "execution_count": null,
      "outputs": []
    }
  ]
}